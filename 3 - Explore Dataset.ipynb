{
 "cells": [
  {
   "cell_type": "code",
   "execution_count": 7,
   "id": "fitted-finnish",
   "metadata": {},
   "outputs": [],
   "source": [
    "import json\n",
    "import pandas as pd\n",
    "import seaborn as sns\n",
    "import matplotlib.pyplot as plt"
   ]
  },
  {
   "cell_type": "markdown",
   "id": "desirable-walter",
   "metadata": {},
   "source": [
    "## Build Pandas Dataframe"
   ]
  },
  {
   "cell_type": "code",
   "execution_count": 2,
   "id": "behavioral-reality",
   "metadata": {},
   "outputs": [],
   "source": [
    "dataset_name_clean = \"data_full_clean.txt\"\n",
    "dataset_path = \".\\\\data\\\\\"\n",
    "\n",
    "with open(dataset_path+dataset_name_clean) as json_file:\n",
    "    data = json.load(json_file)"
   ]
  },
  {
   "cell_type": "code",
   "execution_count": 3,
   "id": "broadband-truck",
   "metadata": {},
   "outputs": [
    {
     "data": {
      "text/html": [
       "<div>\n",
       "<style scoped>\n",
       "    .dataframe tbody tr th:only-of-type {\n",
       "        vertical-align: middle;\n",
       "    }\n",
       "\n",
       "    .dataframe tbody tr th {\n",
       "        vertical-align: top;\n",
       "    }\n",
       "\n",
       "    .dataframe thead th {\n",
       "        text-align: right;\n",
       "    }\n",
       "</style>\n",
       "<table border=\"1\" class=\"dataframe\">\n",
       "  <thead>\n",
       "    <tr style=\"text-align: right;\">\n",
       "      <th></th>\n",
       "      <th>artist_id</th>\n",
       "      <th>artist_name</th>\n",
       "      <th>album_id</th>\n",
       "      <th>album_name</th>\n",
       "      <th>album_popularity</th>\n",
       "      <th>genres</th>\n",
       "      <th>filepath</th>\n",
       "    </tr>\n",
       "  </thead>\n",
       "  <tbody>\n",
       "    <tr>\n",
       "      <th>0</th>\n",
       "      <td>5me0Irg2ANcsgc93uaYrpb</td>\n",
       "      <td>The Notorious B.I.G.</td>\n",
       "      <td>7dRdaGSxgcBdJnrOviQRuB</td>\n",
       "      <td>Life After Death (2014 Remastered Edition)</td>\n",
       "      <td>78</td>\n",
       "      <td>[east coast hip hop, gangster rap, hardcore hi...</td>\n",
       "      <td>.\\images\\7dRdaGSxgcBdJnrOviQRuB.jpg</td>\n",
       "    </tr>\n",
       "    <tr>\n",
       "      <th>1</th>\n",
       "      <td>36QJpDe2go2KgaRleHCDTp</td>\n",
       "      <td>Led Zeppelin</td>\n",
       "      <td>6P5QHz4XtxOmS5EuiGIPut</td>\n",
       "      <td>Led Zeppelin III (Remaster)</td>\n",
       "      <td>74</td>\n",
       "      <td>[album rock, classic rock, hard rock, rock]</td>\n",
       "      <td>.\\images\\6P5QHz4XtxOmS5EuiGIPut.jpg</td>\n",
       "    </tr>\n",
       "    <tr>\n",
       "      <th>2</th>\n",
       "      <td>5WUlDfRSoLAfcVSX1WnrxN</td>\n",
       "      <td>Sia</td>\n",
       "      <td>77jAfTh3KH9K2reMOmTgOh</td>\n",
       "      <td>This Is Acting</td>\n",
       "      <td>74</td>\n",
       "      <td>[australian dance, australian pop, dance pop, ...</td>\n",
       "      <td>.\\images\\77jAfTh3KH9K2reMOmTgOh.jpg</td>\n",
       "    </tr>\n",
       "    <tr>\n",
       "      <th>3</th>\n",
       "      <td>0dEvJpkqhrcn64d3oI8v79</td>\n",
       "      <td>Barenaked Ladies</td>\n",
       "      <td>0DuFDnZcj7B4R0Jik1aDmY</td>\n",
       "      <td>Stunt (20th Anniversary Edition)</td>\n",
       "      <td>66</td>\n",
       "      <td>[canadian pop, canadian rock, comic, pop rock]</td>\n",
       "      <td>.\\images\\0DuFDnZcj7B4R0Jik1aDmY.jpg</td>\n",
       "    </tr>\n",
       "    <tr>\n",
       "      <th>4</th>\n",
       "      <td>2BvzbqWWwLN11XGBYgDZzx</td>\n",
       "      <td>Terror Squad</td>\n",
       "      <td>0NTYMm0B7adXejff1phD3F</td>\n",
       "      <td>True Story</td>\n",
       "      <td>60</td>\n",
       "      <td>[bronx hip hop, hardcore hip hop]</td>\n",
       "      <td>.\\images\\0NTYMm0B7adXejff1phD3F.jpg</td>\n",
       "    </tr>\n",
       "  </tbody>\n",
       "</table>\n",
       "</div>"
      ],
      "text/plain": [
       "                artist_id           artist_name                album_id  \\\n",
       "0  5me0Irg2ANcsgc93uaYrpb  The Notorious B.I.G.  7dRdaGSxgcBdJnrOviQRuB   \n",
       "1  36QJpDe2go2KgaRleHCDTp          Led Zeppelin  6P5QHz4XtxOmS5EuiGIPut   \n",
       "2  5WUlDfRSoLAfcVSX1WnrxN                   Sia  77jAfTh3KH9K2reMOmTgOh   \n",
       "3  0dEvJpkqhrcn64d3oI8v79      Barenaked Ladies  0DuFDnZcj7B4R0Jik1aDmY   \n",
       "4  2BvzbqWWwLN11XGBYgDZzx          Terror Squad  0NTYMm0B7adXejff1phD3F   \n",
       "\n",
       "                                   album_name  album_popularity  \\\n",
       "0  Life After Death (2014 Remastered Edition)                78   \n",
       "1                 Led Zeppelin III (Remaster)                74   \n",
       "2                              This Is Acting                74   \n",
       "3            Stunt (20th Anniversary Edition)                66   \n",
       "4                                  True Story                60   \n",
       "\n",
       "                                              genres  \\\n",
       "0  [east coast hip hop, gangster rap, hardcore hi...   \n",
       "1        [album rock, classic rock, hard rock, rock]   \n",
       "2  [australian dance, australian pop, dance pop, ...   \n",
       "3     [canadian pop, canadian rock, comic, pop rock]   \n",
       "4                  [bronx hip hop, hardcore hip hop]   \n",
       "\n",
       "                              filepath  \n",
       "0  .\\images\\7dRdaGSxgcBdJnrOviQRuB.jpg  \n",
       "1  .\\images\\6P5QHz4XtxOmS5EuiGIPut.jpg  \n",
       "2  .\\images\\77jAfTh3KH9K2reMOmTgOh.jpg  \n",
       "3  .\\images\\0DuFDnZcj7B4R0Jik1aDmY.jpg  \n",
       "4  .\\images\\0NTYMm0B7adXejff1phD3F.jpg  "
      ]
     },
     "execution_count": 3,
     "metadata": {},
     "output_type": "execute_result"
    }
   ],
   "source": [
    "# Get column names\n",
    "columns = list(data['0'].keys())\n",
    "columns.remove('album_url')\n",
    "\n",
    "records = []\n",
    "\n",
    "for item in data.keys():\n",
    "    record = []\n",
    "    for col in columns:\n",
    "        record.append(data[item][col])\n",
    "    records.append(record)\n",
    "\n",
    "albums_df = pd.DataFrame(records, columns=columns)\n",
    "albums_df.head()"
   ]
  },
  {
   "cell_type": "code",
   "execution_count": 4,
   "id": "infectious-barrel",
   "metadata": {},
   "outputs": [
    {
     "data": {
      "text/plain": [
       "<AxesSubplot:xlabel='album_popularity'>"
      ]
     },
     "execution_count": 4,
     "metadata": {},
     "output_type": "execute_result"
    },
    {
     "data": {
      "image/png": "[encoded data removed]",
      "text/plain": [
       "<Figure size 432x288 with 1 Axes>"
      ]
     },
     "metadata": {
      "needs_background": "light"
     },
     "output_type": "display_data"
    }
   ],
   "source": [
    "sns.boxplot(x=albums_df['album_popularity'])"
   ]
  },
  {
   "cell_type": "code",
   "execution_count": 5,
   "id": "missing-pharmacy",
   "metadata": {},
   "outputs": [
    {
     "data": {
      "text/plain": [
       "<AxesSubplot:>"
      ]
     },
     "execution_count": 5,
     "metadata": {},
     "output_type": "execute_result"
    },
    {
     "data": {
      "image/png": "[encoded data removed]",
      "text/plain": [
       "<Figure size 720x360 with 1 Axes>"
      ]
     },
     "metadata": {
      "needs_background": "light"
     },
     "output_type": "display_data"
    }
   ],
   "source": [
    "r = albums_df.album_popularity.value_counts().sort_index()\n",
    "r.nlargest(20).sort_index().plot(kind='bar', figsize=(10,5))"
   ]
  },
  {
   "cell_type": "code",
   "execution_count": 8,
   "id": "nominated-letter",
   "metadata": {},
   "outputs": [
    {
     "data": {
      "image/png": "[encoded data removed]",
      "text/plain": [
       "<Figure size 720x360 with 1 Axes>"
      ]
     },
     "metadata": {
      "needs_background": "light"
     },
     "output_type": "display_data"
    }
   ],
   "source": [
    "# Plotting a scatter plot\n",
    "fig, ax = plt.subplots(figsize=(10,5))\n",
    "x = albums_df.album_popularity\n",
    "y = x.index\n",
    "ax.scatter(y, x)\n",
    "\n",
    "\n",
    "plt.show()"
   ]
  },
  {
   "cell_type": "code",
   "execution_count": null,
   "id": "protecting-exemption",
   "metadata": {},
   "outputs": [],
   "source": []
  },
  {
   "cell_type": "code",
   "execution_count": null,
   "id": "likely-publisher",
   "metadata": {},
   "outputs": [],
   "source": []
  }
 ],
 "metadata": {
  "kernelspec": {
   "display_name": "Python 3",
   "language": "python",
   "name": "python3"
  },
  "language_info": {
   "codemirror_mode": {
    "name": "ipython",
    "version": 3
   },
   "file_extension": ".py",
   "mimetype": "text/x-python",
   "name": "python",
   "nbconvert_exporter": "python",
   "pygments_lexer": "ipython3",
   "version": "3.9.1"
  }
 },
 "nbformat": 4,
 "nbformat_minor": 5
}
