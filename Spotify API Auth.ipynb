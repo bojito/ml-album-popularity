{
 "cells": [
  {
   "cell_type": "code",
   "execution_count": 2,
   "id": "stable-paradise",
   "metadata": {},
   "outputs": [
    {
     "name": "stdout",
     "output_type": "stream",
     "text": [
      "Requirement already satisfied: requests in c:\\users\\chris\\desktop\\ml-album-popularity\\env\\lib\\site-packages (2.25.1)\n",
      "Requirement already satisfied: chardet<5,>=3.0.2 in c:\\users\\chris\\desktop\\ml-album-popularity\\env\\lib\\site-packages (from requests) (4.0.0)\n",
      "Requirement already satisfied: certifi>=2017.4.17 in c:\\users\\chris\\desktop\\ml-album-popularity\\env\\lib\\site-packages (from requests) (2020.12.5)\n",
      "Requirement already satisfied: urllib3<1.27,>=1.21.1 in c:\\users\\chris\\desktop\\ml-album-popularity\\env\\lib\\site-packages (from requests) (1.26.3)\n",
      "Requirement already satisfied: idna<3,>=2.5 in c:\\users\\chris\\desktop\\ml-album-popularity\\env\\lib\\site-packages (from requests) (2.10)\n"
     ]
    }
   ],
   "source": [
    "!pip install requests"
   ]
  },
  {
   "cell_type": "code",
   "execution_count": 31,
   "id": "annoying-apartment",
   "metadata": {},
   "outputs": [],
   "source": [
    "import requests\n",
    "import datetime\n",
    "import base64"
   ]
  },
  {
   "cell_type": "code",
   "execution_count": 3,
   "id": "efficient-elite",
   "metadata": {},
   "outputs": [],
   "source": [
    "client_id = 'b966986ced774c3e9b6e119bd10d68a3'\n",
    "client_secret = '5fc8aed602d24413a4002bc03d1cf7c9'"
   ]
  },
  {
   "cell_type": "code",
   "execution_count": 5,
   "id": "collective-right",
   "metadata": {},
   "outputs": [],
   "source": [
    "# do a lookup for a token\n",
    "# this token is for future requests\n",
    "\n",
    "# Using Client Credentials Flow Authorization"
   ]
  },
  {
   "cell_type": "code",
   "execution_count": 14,
   "id": "useful-afternoon",
   "metadata": {},
   "outputs": [],
   "source": [
    "client_creds = f\"{client_id}:{client_secret}\" # <base64 encoded client_id:client_secret>\n",
    "    \n",
    "client_creds_b64 = base64.b64encode(client_creds.encode())"
   ]
  },
  {
   "cell_type": "code",
   "execution_count": 18,
   "id": "prostate-latin",
   "metadata": {},
   "outputs": [],
   "source": [
    "token_url = \"https://accounts.spotify.com/api/token\"\n",
    "method = 'POST'\n",
    "token_data = {\n",
    "    \"grant_type\" : \"client_credentials\"\n",
    "}\n",
    "token_header = {\n",
    "    \"Authorization\" : f\"Basic {client_creds_b64.decode()}\"\n",
    "}"
   ]
  },
  {
   "cell_type": "code",
   "execution_count": 26,
   "id": "invisible-tension",
   "metadata": {},
   "outputs": [
    {
     "name": "stdout",
     "output_type": "stream",
     "text": [
      "{'access_token': 'BQA08ZYFGMN25atGTjnpj63bvs7fn_OyOEGUcLDKFrdvjiKdJ6OT-6lopMrfm4FAoX9DswYfPgaxWxu2hBA', 'token_type': 'Bearer', 'expires_in': 3600, 'scope': ''}\n"
     ]
    }
   ],
   "source": [
    "r = requests.post(token_url, data=token_data, headers=token_header)\n",
    "print(r.json())\n",
    "\n",
    "valid_request = r.status_code in range(200,299)"
   ]
  },
  {
   "cell_type": "code",
   "execution_count": 33,
   "id": "english-syndrome",
   "metadata": {},
   "outputs": [
    {
     "name": "stdout",
     "output_type": "stream",
     "text": [
      "False\n"
     ]
    }
   ],
   "source": [
    "if valid_request:\n",
    "    now = datetime.datetime.now()\n",
    "    token_request = r.json()\n",
    "    access_token = token_request['access_token']\n",
    "    expires_in = token_request['expires_in']\n",
    "    expires = now + datetime.timedelta(seconds=expires_in)\n",
    "    is_expired = expires < now"
   ]
  }
 ],
 "metadata": {
  "kernelspec": {
   "display_name": "Python 3",
   "language": "python",
   "name": "python3"
  },
  "language_info": {
   "codemirror_mode": {
    "name": "ipython",
    "version": 3
   },
   "file_extension": ".py",
   "mimetype": "text/x-python",
   "name": "python",
   "nbconvert_exporter": "python",
   "pygments_lexer": "ipython3",
   "version": "3.9.1"
  }
 },
 "nbformat": 4,
 "nbformat_minor": 5
}
